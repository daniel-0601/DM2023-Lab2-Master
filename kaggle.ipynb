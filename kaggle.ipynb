{
 "cells": [
  {
   "cell_type": "code",
   "execution_count": 1,
   "id": "fcd3d9b3",
   "metadata": {},
   "outputs": [],
   "source": [
    "import pandas as pd\n",
    "import json\n",
    "\n",
    "# 從JSON文件中逐行讀取數據\n",
    "with open('tweets_DM.json', 'r') as file:\n",
    "    lines = file.readlines()\n",
    "\n",
    "# 初始化一個空的列表\n",
    "data_list = []\n",
    "\n",
    "# 循環迭代每一行數據\n",
    "for line in lines:\n",
    "    data_dict = json.loads(line)\n",
    "    score = data_dict[\"_score\"]\n",
    "    #index = data_dict[\"_index\"]\n",
    "    source = data_dict[\"_source\"]\n",
    "    tweet_id = source[\"tweet\"][\"tweet_id\"]\n",
    "    text = source[\"tweet\"][\"text\"]\n",
    "    hashtags = source[\"tweet\"][\"hashtags\"] if \"hashtags\" in source[\"tweet\"] else []\n",
    "    #crawldate = data_dict[\"_crawldate\"]\n",
    "    #data_type = data_dict[\"_type\"]\n",
    "\n",
    "    # 將提取的字段添加到列表\n",
    "    data_list.append({\n",
    "        \"tweet_id\": tweet_id,\n",
    "        \"score\": score,\n",
    "        #\"index\": index,\n",
    "        \"text\": text,\n",
    "        \"hashtags\": hashtags,\n",
    "        #\"crawldate\": crawldate,\n",
    "        #\"type\": data_type\n",
    "    })\n",
    "\n",
    "# 一次建立 DataFrame\n",
    "df = pd.DataFrame(data_list)\n",
    "\n"
   ]
  },
  {
   "cell_type": "code",
   "execution_count": 2,
   "id": "24fdcdba",
   "metadata": {},
   "outputs": [
    {
     "data": {
      "text/html": [
       "<div>\n",
       "<style scoped>\n",
       "    .dataframe tbody tr th:only-of-type {\n",
       "        vertical-align: middle;\n",
       "    }\n",
       "\n",
       "    .dataframe tbody tr th {\n",
       "        vertical-align: top;\n",
       "    }\n",
       "\n",
       "    .dataframe thead th {\n",
       "        text-align: right;\n",
       "    }\n",
       "</style>\n",
       "<table border=\"1\" class=\"dataframe\">\n",
       "  <thead>\n",
       "    <tr style=\"text-align: right;\">\n",
       "      <th></th>\n",
       "      <th>tweet_id</th>\n",
       "      <th>score</th>\n",
       "      <th>text</th>\n",
       "      <th>hashtags</th>\n",
       "    </tr>\n",
       "  </thead>\n",
       "  <tbody>\n",
       "    <tr>\n",
       "      <th>0</th>\n",
       "      <td>0x376b20</td>\n",
       "      <td>391</td>\n",
       "      <td>People who post \"add me on #Snapchat\" must be ...</td>\n",
       "      <td>[Snapchat]</td>\n",
       "    </tr>\n",
       "    <tr>\n",
       "      <th>1</th>\n",
       "      <td>0x2d5350</td>\n",
       "      <td>433</td>\n",
       "      <td>@brianklaas As we see, Trump is dangerous to #...</td>\n",
       "      <td>[freepress, TrumpLegacy, CNN]</td>\n",
       "    </tr>\n",
       "    <tr>\n",
       "      <th>2</th>\n",
       "      <td>0x28b412</td>\n",
       "      <td>232</td>\n",
       "      <td>Confident of your obedience, I write to you, k...</td>\n",
       "      <td>[bibleverse]</td>\n",
       "    </tr>\n",
       "    <tr>\n",
       "      <th>3</th>\n",
       "      <td>0x1cd5b0</td>\n",
       "      <td>376</td>\n",
       "      <td>Now ISSA is stalking Tasha 😂😂😂 &lt;LH&gt;</td>\n",
       "      <td>[]</td>\n",
       "    </tr>\n",
       "    <tr>\n",
       "      <th>4</th>\n",
       "      <td>0x2de201</td>\n",
       "      <td>989</td>\n",
       "      <td>\"Trust is not the same as faith. A friend is s...</td>\n",
       "      <td>[]</td>\n",
       "    </tr>\n",
       "  </tbody>\n",
       "</table>\n",
       "</div>"
      ],
      "text/plain": [
       "   tweet_id  score                                               text  \\\n",
       "0  0x376b20    391  People who post \"add me on #Snapchat\" must be ...   \n",
       "1  0x2d5350    433  @brianklaas As we see, Trump is dangerous to #...   \n",
       "2  0x28b412    232  Confident of your obedience, I write to you, k...   \n",
       "3  0x1cd5b0    376                Now ISSA is stalking Tasha 😂😂😂 <LH>   \n",
       "4  0x2de201    989  \"Trust is not the same as faith. A friend is s...   \n",
       "\n",
       "                        hashtags  \n",
       "0                     [Snapchat]  \n",
       "1  [freepress, TrumpLegacy, CNN]  \n",
       "2                   [bibleverse]  \n",
       "3                             []  \n",
       "4                             []  "
      ]
     },
     "execution_count": 2,
     "metadata": {},
     "output_type": "execute_result"
    }
   ],
   "source": [
    "df.head()"
   ]
  },
  {
   "cell_type": "code",
   "execution_count": 3,
   "id": "9034e8c9",
   "metadata": {},
   "outputs": [
    {
     "name": "stdout",
     "output_type": "stream",
     "text": [
      "['test' 'train']\n"
     ]
    }
   ],
   "source": [
    "# 讀取包含train或test標籤的CSV文件\n",
    "labels_df = pd.read_csv('data_identification.csv')\n",
    "print(labels_df['identification'].unique())"
   ]
  },
  {
   "cell_type": "code",
   "execution_count": 4,
   "id": "ae73d019",
   "metadata": {},
   "outputs": [
    {
     "name": "stdout",
     "output_type": "stream",
     "text": [
      "['sadness' 'disgust' 'anticipation' 'joy' 'trust' 'anger' 'fear'\n",
      " 'surprise']\n"
     ]
    }
   ],
   "source": [
    "\n",
    "# 讀取包含情緒標籤的CSV文件\n",
    "sentiments_df = pd.read_csv('emotion.csv')\n",
    "print(sentiments_df['emotion'].unique())\n"
   ]
  },
  {
   "cell_type": "code",
   "execution_count": 5,
   "id": "d07925f5",
   "metadata": {},
   "outputs": [
    {
     "data": {
      "text/html": [
       "<div>\n",
       "<style scoped>\n",
       "    .dataframe tbody tr th:only-of-type {\n",
       "        vertical-align: middle;\n",
       "    }\n",
       "\n",
       "    .dataframe tbody tr th {\n",
       "        vertical-align: top;\n",
       "    }\n",
       "\n",
       "    .dataframe thead th {\n",
       "        text-align: right;\n",
       "    }\n",
       "</style>\n",
       "<table border=\"1\" class=\"dataframe\">\n",
       "  <thead>\n",
       "    <tr style=\"text-align: right;\">\n",
       "      <th></th>\n",
       "      <th>tweet_id</th>\n",
       "      <th>identification</th>\n",
       "      <th>emotion</th>\n",
       "      <th>score</th>\n",
       "      <th>text</th>\n",
       "      <th>hashtags</th>\n",
       "    </tr>\n",
       "  </thead>\n",
       "  <tbody>\n",
       "    <tr>\n",
       "      <th>0</th>\n",
       "      <td>0x28cc61</td>\n",
       "      <td>test</td>\n",
       "      <td>NaN</td>\n",
       "      <td>107</td>\n",
       "      <td>@Habbo I've seen two separate colours of the e...</td>\n",
       "      <td>[]</td>\n",
       "    </tr>\n",
       "    <tr>\n",
       "      <th>1</th>\n",
       "      <td>0x29e452</td>\n",
       "      <td>train</td>\n",
       "      <td>joy</td>\n",
       "      <td>809</td>\n",
       "      <td>Huge Respect🖒 @JohnnyVegasReal talking about l...</td>\n",
       "      <td>[]</td>\n",
       "    </tr>\n",
       "    <tr>\n",
       "      <th>2</th>\n",
       "      <td>0x2b3819</td>\n",
       "      <td>train</td>\n",
       "      <td>joy</td>\n",
       "      <td>808</td>\n",
       "      <td>Yoooo we hit all our monthly goals with the ne...</td>\n",
       "      <td>[spateradio, app]</td>\n",
       "    </tr>\n",
       "    <tr>\n",
       "      <th>3</th>\n",
       "      <td>0x2db41f</td>\n",
       "      <td>test</td>\n",
       "      <td>NaN</td>\n",
       "      <td>728</td>\n",
       "      <td>@FoxNews @KellyannePolls No serious self respe...</td>\n",
       "      <td>[]</td>\n",
       "    </tr>\n",
       "    <tr>\n",
       "      <th>4</th>\n",
       "      <td>0x2a2acc</td>\n",
       "      <td>train</td>\n",
       "      <td>trust</td>\n",
       "      <td>16</td>\n",
       "      <td>@KIDSNTS @PICU_BCH @uhbcomms @BWCHBoss Well do...</td>\n",
       "      <td>[]</td>\n",
       "    </tr>\n",
       "  </tbody>\n",
       "</table>\n",
       "</div>"
      ],
      "text/plain": [
       "   tweet_id identification emotion  score  \\\n",
       "0  0x28cc61           test     NaN    107   \n",
       "1  0x29e452          train     joy    809   \n",
       "2  0x2b3819          train     joy    808   \n",
       "3  0x2db41f           test     NaN    728   \n",
       "4  0x2a2acc          train   trust     16   \n",
       "\n",
       "                                                text           hashtags  \n",
       "0  @Habbo I've seen two separate colours of the e...                 []  \n",
       "1  Huge Respect🖒 @JohnnyVegasReal talking about l...                 []  \n",
       "2  Yoooo we hit all our monthly goals with the ne...  [spateradio, app]  \n",
       "3  @FoxNews @KellyannePolls No serious self respe...                 []  \n",
       "4  @KIDSNTS @PICU_BCH @uhbcomms @BWCHBoss Well do...                 []  "
      ]
     },
     "execution_count": 5,
     "metadata": {},
     "output_type": "execute_result"
    }
   ],
   "source": [
    "#以tweet_id為準，將情緒標籤合併\n",
    "merged_df = labels_df.merge(sentiments_df, on='tweet_id', how='outer').merge(df, on='tweet_id', how='outer')\n",
    "merged_df.head()"
   ]
  },
  {
   "cell_type": "code",
   "execution_count": 6,
   "id": "bc1cbebf",
   "metadata": {},
   "outputs": [
    {
     "name": "stdout",
     "output_type": "stream",
     "text": [
      "Train DataFrame:\n",
      "   tweet_id identification       emotion  score  \\\n",
      "1  0x29e452          train           joy    809   \n",
      "2  0x2b3819          train           joy    808   \n",
      "4  0x2a2acc          train         trust     16   \n",
      "5  0x2a8830          train           joy    768   \n",
      "6  0x20b21d          train  anticipation     70   \n",
      "\n",
      "                                                text  \\\n",
      "1  Huge Respect🖒 @JohnnyVegasReal talking about l...   \n",
      "2  Yoooo we hit all our monthly goals with the ne...   \n",
      "4  @KIDSNTS @PICU_BCH @uhbcomms @BWCHBoss Well do...   \n",
      "5  Come join @ambushman27 on #PUBG while he striv...   \n",
      "6  @fanshixieen2014 Blessings!My #strength little...   \n",
      "\n",
      "                                            hashtags  \n",
      "1                                                 []  \n",
      "2                                  [spateradio, app]  \n",
      "4                                                 []  \n",
      "5  [PUBG, GamersUnite, twitch, BeHealthy, StayPos...  \n",
      "6                             [strength, bones, God]  \n"
     ]
    }
   ],
   "source": [
    "#分出訓練資料\n",
    "train_df = merged_df[merged_df['identification'] == 'train']\n",
    "print(\"Train DataFrame:\")\n",
    "print(train_df.head())\n"
   ]
  },
  {
   "cell_type": "code",
   "execution_count": 7,
   "id": "75564227",
   "metadata": {},
   "outputs": [
    {
     "name": "stdout",
     "output_type": "stream",
     "text": [
      "Test DataFrame:\n",
      "      tweet_id identification emotion  score  \\\n",
      "1366  0x231381           test     NaN    218   \n",
      "1368  0x24e2ce           test     NaN    819   \n",
      "1373  0x1dc3a5           test     NaN     76   \n",
      "1375  0x2895fa           test     NaN    761   \n",
      "1377  0x3020b7           test     NaN     46   \n",
      "\n",
      "                                                   text   hashtags  \n",
      "1366  @HMpoll @king_My18 Yeah. And when a fan of bot...         []  \n",
      "1368  What is #Chelsea doing? Selling one of the bes...  [Chelsea]  \n",
      "1373  Big things coming soon for me a my little fam ...         []  \n",
      "1375  Woke up this morning watchd a video of someone...         []  \n",
      "1377  Credit card reminds me of the success I get in...         []  \n"
     ]
    }
   ],
   "source": [
    "#分出測試資料\n",
    "test_df = merged_df[merged_df['identification'] == 'test']\n",
    "print(\"Test DataFrame:\")\n",
    "print(test_df[300:305])"
   ]
  },
  {
   "cell_type": "code",
   "execution_count": 8,
   "id": "437edce5",
   "metadata": {},
   "outputs": [
    {
     "name": "stderr",
     "output_type": "stream",
     "text": [
      "c:\\Users\\user\\miniconda3\\lib\\site-packages\\sklearn\\feature_extraction\\text.py:525: UserWarning: The parameter 'token_pattern' will not be used since 'tokenizer' is not None'\n",
      "  warnings.warn(\n"
     ]
    }
   ],
   "source": [
    "#Feature engineering 的部分我使用Bag of words\n",
    "from sklearn.feature_extraction.text import CountVectorizer\n",
    "import nltk\n",
    "BOW_vectorizer = CountVectorizer(max_features=500, tokenizer=nltk.word_tokenize) \n",
    "BOW_vectorizer.fit(train_df['text'])\n",
    "\n",
    "train_data_BOW_features = BOW_vectorizer.transform(train_df['text'])\n",
    "test_data_BOW_features = BOW_vectorizer.transform(test_df['text'])"
   ]
  },
  {
   "cell_type": "code",
   "execution_count": 16,
   "id": "5b7434bb",
   "metadata": {},
   "outputs": [
    {
     "name": "stderr",
     "output_type": "stream",
     "text": [
      "c:\\Users\\user\\miniconda3\\lib\\site-packages\\sklearn\\linear_model\\_logistic.py:460: ConvergenceWarning: lbfgs failed to converge (status=1):\n",
      "STOP: TOTAL NO. of ITERATIONS REACHED LIMIT.\n",
      "\n",
      "Increase the number of iterations (max_iter) or scale the data as shown in:\n",
      "    https://scikit-learn.org/stable/modules/preprocessing.html\n",
      "Please also refer to the documentation for alternative solver options:\n",
      "    https://scikit-learn.org/stable/modules/linear_model.html#logistic-regression\n",
      "  n_iter_i = _check_optimize_result(\n"
     ]
    },
    {
     "data": {
      "text/html": [
       "<div>\n",
       "<style scoped>\n",
       "    .dataframe tbody tr th:only-of-type {\n",
       "        vertical-align: middle;\n",
       "    }\n",
       "\n",
       "    .dataframe tbody tr th {\n",
       "        vertical-align: top;\n",
       "    }\n",
       "\n",
       "    .dataframe thead th {\n",
       "        text-align: right;\n",
       "    }\n",
       "</style>\n",
       "<table border=\"1\" class=\"dataframe\">\n",
       "  <thead>\n",
       "    <tr style=\"text-align: right;\">\n",
       "      <th></th>\n",
       "      <th>id</th>\n",
       "      <th>identification</th>\n",
       "      <th>emotion</th>\n",
       "      <th>score</th>\n",
       "      <th>text</th>\n",
       "      <th>hashtags</th>\n",
       "    </tr>\n",
       "  </thead>\n",
       "  <tbody>\n",
       "    <tr>\n",
       "      <th>0</th>\n",
       "      <td>0x28cc61</td>\n",
       "      <td>test</td>\n",
       "      <td>joy</td>\n",
       "      <td>107</td>\n",
       "      <td>@Habbo I've seen two separate colours of the e...</td>\n",
       "      <td>[]</td>\n",
       "    </tr>\n",
       "    <tr>\n",
       "      <th>1</th>\n",
       "      <td>0x2db41f</td>\n",
       "      <td>test</td>\n",
       "      <td>joy</td>\n",
       "      <td>728</td>\n",
       "      <td>@FoxNews @KellyannePolls No serious self respe...</td>\n",
       "      <td>[]</td>\n",
       "    </tr>\n",
       "    <tr>\n",
       "      <th>2</th>\n",
       "      <td>0x2466f6</td>\n",
       "      <td>test</td>\n",
       "      <td>joy</td>\n",
       "      <td>491</td>\n",
       "      <td>Looking for a new car, and it says 1 lady owne...</td>\n",
       "      <td>[womendrivers]</td>\n",
       "    </tr>\n",
       "    <tr>\n",
       "      <th>3</th>\n",
       "      <td>0x23f9e9</td>\n",
       "      <td>test</td>\n",
       "      <td>joy</td>\n",
       "      <td>28</td>\n",
       "      <td>@cineworld “only the brave” just out and fount...</td>\n",
       "      <td>[robbingmembers]</td>\n",
       "    </tr>\n",
       "    <tr>\n",
       "      <th>4</th>\n",
       "      <td>0x1fb4e1</td>\n",
       "      <td>test</td>\n",
       "      <td>disgust</td>\n",
       "      <td>925</td>\n",
       "      <td>Felt like total dog 💩 going into open gym and ...</td>\n",
       "      <td>[]</td>\n",
       "    </tr>\n",
       "  </tbody>\n",
       "</table>\n",
       "</div>"
      ],
      "text/plain": [
       "         id identification  emotion  score  \\\n",
       "0  0x28cc61           test      joy    107   \n",
       "1  0x2db41f           test      joy    728   \n",
       "2  0x2466f6           test      joy    491   \n",
       "3  0x23f9e9           test      joy     28   \n",
       "4  0x1fb4e1           test  disgust    925   \n",
       "\n",
       "                                                text          hashtags  \n",
       "0  @Habbo I've seen two separate colours of the e...                []  \n",
       "1  @FoxNews @KellyannePolls No serious self respe...                []  \n",
       "2  Looking for a new car, and it says 1 lady owne...    [womendrivers]  \n",
       "3  @cineworld “only the brave” just out and fount...  [robbingmembers]  \n",
       "4  Felt like total dog 💩 going into open gym and ...                []  "
      ]
     },
     "execution_count": 16,
     "metadata": {},
     "output_type": "execute_result"
    }
   ],
   "source": [
    "#在訓練模型前，我把特徵值先進行標準化，以達到更好的performence\n",
    "#因為硬體限制，我使用較為簡單的Logistic Regression，可達到準確率0.388\n",
    "from sklearn.linear_model import LogisticRegression\n",
    "from sklearn.preprocessing import StandardScaler\n",
    "\n",
    "scaler = StandardScaler(with_mean=False)\n",
    "X_train_vectorized_scaled = scaler.fit_transform(train_data_BOW_features)\n",
    "X_test_vectorized_scaled = scaler.transform(test_data_BOW_features)\n",
    "      \n",
    "y_train = train_df['emotion']\n",
    "\n",
    "model = LogisticRegression(multi_class='multinomial', solver='lbfgs')\n",
    "\n",
    "model.fit(X_train_vectorized_scaled, y_train)\n",
    "y_pred = model.predict(X_test_vectorized_scaled)\n",
    "test_df['emotion'] = y_pred\n",
    "test_df = test_df.rename(columns={'tweet_id': 'id'})\n",
    "header = [\"id\", \"emotion\"]\n",
    "test_df.to_csv('output.csv', columns=header, index = False)\n",
    "test_df.head()"
   ]
  }
 ],
 "metadata": {
  "kernelspec": {
   "display_name": "py3.7env",
   "language": "python",
   "name": "py3.7env"
  },
  "language_info": {
   "codemirror_mode": {
    "name": "ipython",
    "version": 3
   },
   "file_extension": ".py",
   "mimetype": "text/x-python",
   "name": "python",
   "nbconvert_exporter": "python",
   "pygments_lexer": "ipython3",
   "version": "3.10.10"
  }
 },
 "nbformat": 4,
 "nbformat_minor": 5
}
